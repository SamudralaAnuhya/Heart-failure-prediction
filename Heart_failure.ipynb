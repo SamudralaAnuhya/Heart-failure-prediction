{
  "nbformat": 4,
  "nbformat_minor": 0,
  "metadata": {
    "colab": {
      "provenance": [],
      "mount_file_id": "1EGe2Nv6ATIpQ6hEP5nlU_BV9MgK4nNuj",
      "authorship_tag": "ABX9TyNeIVa2ZHGkEC3XjlT5LU/z",
      "include_colab_link": true
    },
    "kernelspec": {
      "name": "python3",
      "display_name": "Python 3"
    },
    "language_info": {
      "name": "python"
    }
  },
  "cells": [
    {
      "cell_type": "markdown",
      "metadata": {
        "id": "view-in-github",
        "colab_type": "text"
      },
      "source": [
        "<a href=\"https://colab.research.google.com/github/SamudralaAnuhya/Heart-failure-prediction/blob/main/Heart_failure.ipynb\" target=\"_parent\"><img src=\"https://colab.research.google.com/assets/colab-badge.svg\" alt=\"Open In Colab\"/></a>"
      ]
    },
    {
      "cell_type": "markdown",
      "source": [
        "#For the heart failure prediction dataset we will be working with 3 classifier algorithms\n",
        "\n",
        "1. Decision Tree\n",
        "2. Random Forest\n",
        "3. XG boost"
      ],
      "metadata": {
        "id": "byLehXOIclHB"
      }
    },
    {
      "cell_type": "code",
      "source": [
        "import numpy as np\n",
        "import pandas as pd\n",
        "from sklearn.tree import DecisionTreeClassifier\n",
        "from sklearn.ensemble import RandomForestClassifier\n",
        "from xgboost import XGBClassifier\n",
        "from sklearn.model_selection import train_test_split\n",
        "from sklearn.metrics import accuracy_score\n",
        "import matplotlib.pyplot as plt\n",
        "\n",
        "RANDOM_STATE = 55\n"
      ],
      "metadata": {
        "id": "uWPMaN7udCO5"
      },
      "execution_count": null,
      "outputs": []
    },
    {
      "cell_type": "markdown",
      "source": [
        "#### Datatset\n",
        "- This dataset is obtained from Kaggle: [Heart Failure Prediction Dataset](https://www.kaggle.com/datasets/fedesoriano/heart-failure-prediction)\n",
        "\n",
        "#### Context\n",
        "- Cardiovascular disease (CVDs) is the number one cause of death globally, taking an estimated 17.9 million lives each year, which accounts for 31% of all deaths worldwide. Four out of five CVD deaths are due to heart attacks and strokes, and one-third of these deaths occur prematurely in people under 70 years of age. Heart failure is a common event caused by CVDs.\n",
        "- People with cardiovascular disease or who are at high cardiovascular risk (due to the presence of one or more risk factors such as hypertension, diabetes, hyperlipidaemia or already established disease) need early detection and management.  \n",
        "- This dataset contains 11 features that can be used to predict possible heart disease.\n",
        "- Let's train a machine learning model to assist with diagnosing this disease.\n",
        "\n",
        "#### Attribute Information\n",
        "- Age: age of the patient [years]\n",
        "- Sex: sex of the patient [M: Male, F: Female]\n",
        "- ChestPainType: chest pain type [TA: Typical Angina, ATA: Atypical Angina, NAP: Non-Anginal Pain, ASY: Asymptomatic]\n",
        "- RestingBP: resting blood pressure [mm Hg]\n",
        "- Cholesterol: serum cholesterol [mm/dl]\n",
        "- FastingBS: fasting blood sugar [1: if FastingBS > 120 mg/dl, 0: otherwise]\n",
        "- RestingECG: resting electrocardiogram results [Normal: Normal, ST: having ST-T wave abnormality (T wave inversions and/or ST elevation or depression of > 0.05 mV), LVH: showing probable or definite left ventricular hypertrophy by Estes' criteria]\n",
        "- MaxHR: maximum heart rate achieved [Numeric value between 60 and 202]\n",
        "- ExerciseAngina: exercise-induced angina [Y: Yes, N: No]\n",
        "- Oldpeak: oldpeak = ST [Numeric value measured in depression]\n",
        "- ST_Slope: the slope of the peak exercise ST segment [Up: upsloping, Flat: flat, Down: downsloping]\n",
        "- HeartDisease: output class [1: heart disease, 0: Normal]\n",
        "\n",
        "\n",
        "\n",
        "categorical values :\n",
        "- Sex\n",
        "- ChestPainType\n",
        "- RestingECG\n",
        "- ExerciseAngina\n",
        "- ST_Slope\n",
        "\n",
        "we need to do one-hot encode for them"
      ],
      "metadata": {
        "id": "6iGXLdPMXsB7"
      }
    },
    {
      "cell_type": "code",
      "source": [
        "df = pd.read_csv(\"/content/drive/MyDrive/Heart_Failure_Prediction/heart.csv\")"
      ],
      "metadata": {
        "id": "acyzhKUfdCWB"
      },
      "execution_count": null,
      "outputs": []
    },
    {
      "cell_type": "code",
      "source": [
        "df.head()"
      ],
      "metadata": {
        "colab": {
          "base_uri": "https://localhost:8080/"
        },
        "collapsed": true,
        "id": "AWe5iaYrdCZ9",
        "outputId": "4d91ea31-f394-46aa-94e6-c8720f0bbee9"
      },
      "execution_count": null,
      "outputs": [
        {
          "output_type": "execute_result",
          "data": {
            "text/plain": [
              "   Age Sex ChestPainType  RestingBP  Cholesterol  FastingBS RestingECG  MaxHR  \\\n",
              "0   40   M           ATA        140          289          0     Normal    172   \n",
              "1   49   F           NAP        160          180          0     Normal    156   \n",
              "2   37   M           ATA        130          283          0         ST     98   \n",
              "3   48   F           ASY        138          214          0     Normal    108   \n",
              "4   54   M           NAP        150          195          0     Normal    122   \n",
              "\n",
              "  ExerciseAngina  Oldpeak ST_Slope  HeartDisease  \n",
              "0              N      0.0       Up             0  \n",
              "1              N      1.0     Flat             1  \n",
              "2              N      0.0       Up             0  \n",
              "3              Y      1.5     Flat             1  \n",
              "4              N      0.0       Up             0  "
            ],
            "text/html": [
              "\n",
              "  <div id=\"df-9e046bc4-05f5-4868-b411-dff12dc4f5f6\" class=\"colab-df-container\">\n",
              "    <div>\n",
              "<style scoped>\n",
              "    .dataframe tbody tr th:only-of-type {\n",
              "        vertical-align: middle;\n",
              "    }\n",
              "\n",
              "    .dataframe tbody tr th {\n",
              "        vertical-align: top;\n",
              "    }\n",
              "\n",
              "    .dataframe thead th {\n",
              "        text-align: right;\n",
              "    }\n",
              "</style>\n",
              "<table border=\"1\" class=\"dataframe\">\n",
              "  <thead>\n",
              "    <tr style=\"text-align: right;\">\n",
              "      <th></th>\n",
              "      <th>Age</th>\n",
              "      <th>Sex</th>\n",
              "      <th>ChestPainType</th>\n",
              "      <th>RestingBP</th>\n",
              "      <th>Cholesterol</th>\n",
              "      <th>FastingBS</th>\n",
              "      <th>RestingECG</th>\n",
              "      <th>MaxHR</th>\n",
              "      <th>ExerciseAngina</th>\n",
              "      <th>Oldpeak</th>\n",
              "      <th>ST_Slope</th>\n",
              "      <th>HeartDisease</th>\n",
              "    </tr>\n",
              "  </thead>\n",
              "  <tbody>\n",
              "    <tr>\n",
              "      <th>0</th>\n",
              "      <td>40</td>\n",
              "      <td>M</td>\n",
              "      <td>ATA</td>\n",
              "      <td>140</td>\n",
              "      <td>289</td>\n",
              "      <td>0</td>\n",
              "      <td>Normal</td>\n",
              "      <td>172</td>\n",
              "      <td>N</td>\n",
              "      <td>0.0</td>\n",
              "      <td>Up</td>\n",
              "      <td>0</td>\n",
              "    </tr>\n",
              "    <tr>\n",
              "      <th>1</th>\n",
              "      <td>49</td>\n",
              "      <td>F</td>\n",
              "      <td>NAP</td>\n",
              "      <td>160</td>\n",
              "      <td>180</td>\n",
              "      <td>0</td>\n",
              "      <td>Normal</td>\n",
              "      <td>156</td>\n",
              "      <td>N</td>\n",
              "      <td>1.0</td>\n",
              "      <td>Flat</td>\n",
              "      <td>1</td>\n",
              "    </tr>\n",
              "    <tr>\n",
              "      <th>2</th>\n",
              "      <td>37</td>\n",
              "      <td>M</td>\n",
              "      <td>ATA</td>\n",
              "      <td>130</td>\n",
              "      <td>283</td>\n",
              "      <td>0</td>\n",
              "      <td>ST</td>\n",
              "      <td>98</td>\n",
              "      <td>N</td>\n",
              "      <td>0.0</td>\n",
              "      <td>Up</td>\n",
              "      <td>0</td>\n",
              "    </tr>\n",
              "    <tr>\n",
              "      <th>3</th>\n",
              "      <td>48</td>\n",
              "      <td>F</td>\n",
              "      <td>ASY</td>\n",
              "      <td>138</td>\n",
              "      <td>214</td>\n",
              "      <td>0</td>\n",
              "      <td>Normal</td>\n",
              "      <td>108</td>\n",
              "      <td>Y</td>\n",
              "      <td>1.5</td>\n",
              "      <td>Flat</td>\n",
              "      <td>1</td>\n",
              "    </tr>\n",
              "    <tr>\n",
              "      <th>4</th>\n",
              "      <td>54</td>\n",
              "      <td>M</td>\n",
              "      <td>NAP</td>\n",
              "      <td>150</td>\n",
              "      <td>195</td>\n",
              "      <td>0</td>\n",
              "      <td>Normal</td>\n",
              "      <td>122</td>\n",
              "      <td>N</td>\n",
              "      <td>0.0</td>\n",
              "      <td>Up</td>\n",
              "      <td>0</td>\n",
              "    </tr>\n",
              "  </tbody>\n",
              "</table>\n",
              "</div>\n",
              "    <div class=\"colab-df-buttons\">\n",
              "\n",
              "  <div class=\"colab-df-container\">\n",
              "    <button class=\"colab-df-convert\" onclick=\"convertToInteractive('df-9e046bc4-05f5-4868-b411-dff12dc4f5f6')\"\n",
              "            title=\"Convert this dataframe to an interactive table.\"\n",
              "            style=\"display:none;\">\n",
              "\n",
              "  <svg xmlns=\"http://www.w3.org/2000/svg\" height=\"24px\" viewBox=\"0 -960 960 960\">\n",
              "    <path d=\"M120-120v-720h720v720H120Zm60-500h600v-160H180v160Zm220 220h160v-160H400v160Zm0 220h160v-160H400v160ZM180-400h160v-160H180v160Zm440 0h160v-160H620v160ZM180-180h160v-160H180v160Zm440 0h160v-160H620v160Z\"/>\n",
              "  </svg>\n",
              "    </button>\n",
              "\n",
              "  <style>\n",
              "    .colab-df-container {\n",
              "      display:flex;\n",
              "      gap: 12px;\n",
              "    }\n",
              "\n",
              "    .colab-df-convert {\n",
              "      background-color: #E8F0FE;\n",
              "      border: none;\n",
              "      border-radius: 50%;\n",
              "      cursor: pointer;\n",
              "      display: none;\n",
              "      fill: #1967D2;\n",
              "      height: 32px;\n",
              "      padding: 0 0 0 0;\n",
              "      width: 32px;\n",
              "    }\n",
              "\n",
              "    .colab-df-convert:hover {\n",
              "      background-color: #E2EBFA;\n",
              "      box-shadow: 0px 1px 2px rgba(60, 64, 67, 0.3), 0px 1px 3px 1px rgba(60, 64, 67, 0.15);\n",
              "      fill: #174EA6;\n",
              "    }\n",
              "\n",
              "    .colab-df-buttons div {\n",
              "      margin-bottom: 4px;\n",
              "    }\n",
              "\n",
              "    [theme=dark] .colab-df-convert {\n",
              "      background-color: #3B4455;\n",
              "      fill: #D2E3FC;\n",
              "    }\n",
              "\n",
              "    [theme=dark] .colab-df-convert:hover {\n",
              "      background-color: #434B5C;\n",
              "      box-shadow: 0px 1px 3px 1px rgba(0, 0, 0, 0.15);\n",
              "      filter: drop-shadow(0px 1px 2px rgba(0, 0, 0, 0.3));\n",
              "      fill: #FFFFFF;\n",
              "    }\n",
              "  </style>\n",
              "\n",
              "    <script>\n",
              "      const buttonEl =\n",
              "        document.querySelector('#df-9e046bc4-05f5-4868-b411-dff12dc4f5f6 button.colab-df-convert');\n",
              "      buttonEl.style.display =\n",
              "        google.colab.kernel.accessAllowed ? 'block' : 'none';\n",
              "\n",
              "      async function convertToInteractive(key) {\n",
              "        const element = document.querySelector('#df-9e046bc4-05f5-4868-b411-dff12dc4f5f6');\n",
              "        const dataTable =\n",
              "          await google.colab.kernel.invokeFunction('convertToInteractive',\n",
              "                                                    [key], {});\n",
              "        if (!dataTable) return;\n",
              "\n",
              "        const docLinkHtml = 'Like what you see? Visit the ' +\n",
              "          '<a target=\"_blank\" href=https://colab.research.google.com/notebooks/data_table.ipynb>data table notebook</a>'\n",
              "          + ' to learn more about interactive tables.';\n",
              "        element.innerHTML = '';\n",
              "        dataTable['output_type'] = 'display_data';\n",
              "        await google.colab.output.renderOutput(dataTable, element);\n",
              "        const docLink = document.createElement('div');\n",
              "        docLink.innerHTML = docLinkHtml;\n",
              "        element.appendChild(docLink);\n",
              "      }\n",
              "    </script>\n",
              "  </div>\n",
              "\n",
              "\n",
              "<div id=\"df-093f2081-b9b9-45fc-b520-1eef4981b174\">\n",
              "  <button class=\"colab-df-quickchart\" onclick=\"quickchart('df-093f2081-b9b9-45fc-b520-1eef4981b174')\"\n",
              "            title=\"Suggest charts\"\n",
              "            style=\"display:none;\">\n",
              "\n",
              "<svg xmlns=\"http://www.w3.org/2000/svg\" height=\"24px\"viewBox=\"0 0 24 24\"\n",
              "     width=\"24px\">\n",
              "    <g>\n",
              "        <path d=\"M19 3H5c-1.1 0-2 .9-2 2v14c0 1.1.9 2 2 2h14c1.1 0 2-.9 2-2V5c0-1.1-.9-2-2-2zM9 17H7v-7h2v7zm4 0h-2V7h2v10zm4 0h-2v-4h2v4z\"/>\n",
              "    </g>\n",
              "</svg>\n",
              "  </button>\n",
              "\n",
              "<style>\n",
              "  .colab-df-quickchart {\n",
              "      --bg-color: #E8F0FE;\n",
              "      --fill-color: #1967D2;\n",
              "      --hover-bg-color: #E2EBFA;\n",
              "      --hover-fill-color: #174EA6;\n",
              "      --disabled-fill-color: #AAA;\n",
              "      --disabled-bg-color: #DDD;\n",
              "  }\n",
              "\n",
              "  [theme=dark] .colab-df-quickchart {\n",
              "      --bg-color: #3B4455;\n",
              "      --fill-color: #D2E3FC;\n",
              "      --hover-bg-color: #434B5C;\n",
              "      --hover-fill-color: #FFFFFF;\n",
              "      --disabled-bg-color: #3B4455;\n",
              "      --disabled-fill-color: #666;\n",
              "  }\n",
              "\n",
              "  .colab-df-quickchart {\n",
              "    background-color: var(--bg-color);\n",
              "    border: none;\n",
              "    border-radius: 50%;\n",
              "    cursor: pointer;\n",
              "    display: none;\n",
              "    fill: var(--fill-color);\n",
              "    height: 32px;\n",
              "    padding: 0;\n",
              "    width: 32px;\n",
              "  }\n",
              "\n",
              "  .colab-df-quickchart:hover {\n",
              "    background-color: var(--hover-bg-color);\n",
              "    box-shadow: 0 1px 2px rgba(60, 64, 67, 0.3), 0 1px 3px 1px rgba(60, 64, 67, 0.15);\n",
              "    fill: var(--button-hover-fill-color);\n",
              "  }\n",
              "\n",
              "  .colab-df-quickchart-complete:disabled,\n",
              "  .colab-df-quickchart-complete:disabled:hover {\n",
              "    background-color: var(--disabled-bg-color);\n",
              "    fill: var(--disabled-fill-color);\n",
              "    box-shadow: none;\n",
              "  }\n",
              "\n",
              "  .colab-df-spinner {\n",
              "    border: 2px solid var(--fill-color);\n",
              "    border-color: transparent;\n",
              "    border-bottom-color: var(--fill-color);\n",
              "    animation:\n",
              "      spin 1s steps(1) infinite;\n",
              "  }\n",
              "\n",
              "  @keyframes spin {\n",
              "    0% {\n",
              "      border-color: transparent;\n",
              "      border-bottom-color: var(--fill-color);\n",
              "      border-left-color: var(--fill-color);\n",
              "    }\n",
              "    20% {\n",
              "      border-color: transparent;\n",
              "      border-left-color: var(--fill-color);\n",
              "      border-top-color: var(--fill-color);\n",
              "    }\n",
              "    30% {\n",
              "      border-color: transparent;\n",
              "      border-left-color: var(--fill-color);\n",
              "      border-top-color: var(--fill-color);\n",
              "      border-right-color: var(--fill-color);\n",
              "    }\n",
              "    40% {\n",
              "      border-color: transparent;\n",
              "      border-right-color: var(--fill-color);\n",
              "      border-top-color: var(--fill-color);\n",
              "    }\n",
              "    60% {\n",
              "      border-color: transparent;\n",
              "      border-right-color: var(--fill-color);\n",
              "    }\n",
              "    80% {\n",
              "      border-color: transparent;\n",
              "      border-right-color: var(--fill-color);\n",
              "      border-bottom-color: var(--fill-color);\n",
              "    }\n",
              "    90% {\n",
              "      border-color: transparent;\n",
              "      border-bottom-color: var(--fill-color);\n",
              "    }\n",
              "  }\n",
              "</style>\n",
              "\n",
              "  <script>\n",
              "    async function quickchart(key) {\n",
              "      const quickchartButtonEl =\n",
              "        document.querySelector('#' + key + ' button');\n",
              "      quickchartButtonEl.disabled = true;  // To prevent multiple clicks.\n",
              "      quickchartButtonEl.classList.add('colab-df-spinner');\n",
              "      try {\n",
              "        const charts = await google.colab.kernel.invokeFunction(\n",
              "            'suggestCharts', [key], {});\n",
              "      } catch (error) {\n",
              "        console.error('Error during call to suggestCharts:', error);\n",
              "      }\n",
              "      quickchartButtonEl.classList.remove('colab-df-spinner');\n",
              "      quickchartButtonEl.classList.add('colab-df-quickchart-complete');\n",
              "    }\n",
              "    (() => {\n",
              "      let quickchartButtonEl =\n",
              "        document.querySelector('#df-093f2081-b9b9-45fc-b520-1eef4981b174 button');\n",
              "      quickchartButtonEl.style.display =\n",
              "        google.colab.kernel.accessAllowed ? 'block' : 'none';\n",
              "    })();\n",
              "  </script>\n",
              "</div>\n",
              "\n",
              "    </div>\n",
              "  </div>\n"
            ],
            "application/vnd.google.colaboratory.intrinsic+json": {
              "type": "dataframe",
              "variable_name": "df",
              "summary": "{\n  \"name\": \"df\",\n  \"rows\": 918,\n  \"fields\": [\n    {\n      \"column\": \"Age\",\n      \"properties\": {\n        \"dtype\": \"number\",\n        \"std\": 9,\n        \"min\": 28,\n        \"max\": 77,\n        \"num_unique_values\": 50,\n        \"samples\": [\n          44,\n          68,\n          66\n        ],\n        \"semantic_type\": \"\",\n        \"description\": \"\"\n      }\n    },\n    {\n      \"column\": \"Sex\",\n      \"properties\": {\n        \"dtype\": \"category\",\n        \"num_unique_values\": 2,\n        \"samples\": [\n          \"F\",\n          \"M\"\n        ],\n        \"semantic_type\": \"\",\n        \"description\": \"\"\n      }\n    },\n    {\n      \"column\": \"ChestPainType\",\n      \"properties\": {\n        \"dtype\": \"category\",\n        \"num_unique_values\": 4,\n        \"samples\": [\n          \"NAP\",\n          \"TA\"\n        ],\n        \"semantic_type\": \"\",\n        \"description\": \"\"\n      }\n    },\n    {\n      \"column\": \"RestingBP\",\n      \"properties\": {\n        \"dtype\": \"number\",\n        \"std\": 18,\n        \"min\": 0,\n        \"max\": 200,\n        \"num_unique_values\": 67,\n        \"samples\": [\n          165,\n          118\n        ],\n        \"semantic_type\": \"\",\n        \"description\": \"\"\n      }\n    },\n    {\n      \"column\": \"Cholesterol\",\n      \"properties\": {\n        \"dtype\": \"number\",\n        \"std\": 109,\n        \"min\": 0,\n        \"max\": 603,\n        \"num_unique_values\": 222,\n        \"samples\": [\n          305,\n          321\n        ],\n        \"semantic_type\": \"\",\n        \"description\": \"\"\n      }\n    },\n    {\n      \"column\": \"FastingBS\",\n      \"properties\": {\n        \"dtype\": \"number\",\n        \"std\": 0,\n        \"min\": 0,\n        \"max\": 1,\n        \"num_unique_values\": 2,\n        \"samples\": [\n          1,\n          0\n        ],\n        \"semantic_type\": \"\",\n        \"description\": \"\"\n      }\n    },\n    {\n      \"column\": \"RestingECG\",\n      \"properties\": {\n        \"dtype\": \"category\",\n        \"num_unique_values\": 3,\n        \"samples\": [\n          \"Normal\",\n          \"ST\"\n        ],\n        \"semantic_type\": \"\",\n        \"description\": \"\"\n      }\n    },\n    {\n      \"column\": \"MaxHR\",\n      \"properties\": {\n        \"dtype\": \"number\",\n        \"std\": 25,\n        \"min\": 60,\n        \"max\": 202,\n        \"num_unique_values\": 119,\n        \"samples\": [\n          132,\n          157\n        ],\n        \"semantic_type\": \"\",\n        \"description\": \"\"\n      }\n    },\n    {\n      \"column\": \"ExerciseAngina\",\n      \"properties\": {\n        \"dtype\": \"category\",\n        \"num_unique_values\": 2,\n        \"samples\": [\n          \"Y\",\n          \"N\"\n        ],\n        \"semantic_type\": \"\",\n        \"description\": \"\"\n      }\n    },\n    {\n      \"column\": \"Oldpeak\",\n      \"properties\": {\n        \"dtype\": \"number\",\n        \"std\": 1.0665701510493233,\n        \"min\": -2.6,\n        \"max\": 6.2,\n        \"num_unique_values\": 53,\n        \"samples\": [\n          1.3,\n          0.6\n        ],\n        \"semantic_type\": \"\",\n        \"description\": \"\"\n      }\n    },\n    {\n      \"column\": \"ST_Slope\",\n      \"properties\": {\n        \"dtype\": \"category\",\n        \"num_unique_values\": 3,\n        \"samples\": [\n          \"Up\",\n          \"Flat\"\n        ],\n        \"semantic_type\": \"\",\n        \"description\": \"\"\n      }\n    },\n    {\n      \"column\": \"HeartDisease\",\n      \"properties\": {\n        \"dtype\": \"number\",\n        \"std\": 0,\n        \"min\": 0,\n        \"max\": 1,\n        \"num_unique_values\": 2,\n        \"samples\": [\n          1,\n          0\n        ],\n        \"semantic_type\": \"\",\n        \"description\": \"\"\n      }\n    }\n  ]\n}"
            }
          },
          "metadata": {},
          "execution_count": 18
        }
      ]
    },
    {
      "cell_type": "code",
      "source": [
        "#hot encoding using pandas(for categorical values instead of names it will change to 0/1)\n",
        "cat_variables = ['Sex',\n",
        "'ChestPainType',\n",
        "'RestingECG',\n",
        "'ExerciseAngina',\n",
        "'ST_Slope']"
      ],
      "metadata": {
        "id": "I5qYsuBWdCb3"
      },
      "execution_count": null,
      "outputs": []
    },
    {
      "cell_type": "code",
      "source": [
        "df = pd.get_dummies(data = df,\n",
        "                         prefix = cat_variables,\n",
        "                         columns = cat_variables)"
      ],
      "metadata": {
        "id": "LIBXHRuCdCdm"
      },
      "execution_count": null,
      "outputs": []
    },
    {
      "cell_type": "code",
      "source": [
        "df.head()\n"
      ],
      "metadata": {
        "colab": {
          "base_uri": "https://localhost:8080/"
        },
        "collapsed": true,
        "id": "Yc0sDMuQdCfi",
        "outputId": "b1598a9a-9a1c-4297-d358-375d91ad9278"
      },
      "execution_count": null,
      "outputs": [
        {
          "output_type": "execute_result",
          "data": {
            "text/plain": [
              "   Age  RestingBP  Cholesterol  FastingBS  MaxHR  Oldpeak  HeartDisease  \\\n",
              "0   40        140          289          0    172      0.0             0   \n",
              "1   49        160          180          0    156      1.0             1   \n",
              "2   37        130          283          0     98      0.0             0   \n",
              "3   48        138          214          0    108      1.5             1   \n",
              "4   54        150          195          0    122      0.0             0   \n",
              "\n",
              "   Sex_F  Sex_M  ChestPainType_ASY  ...  ChestPainType_NAP  ChestPainType_TA  \\\n",
              "0  False   True              False  ...              False             False   \n",
              "1   True  False              False  ...               True             False   \n",
              "2  False   True              False  ...              False             False   \n",
              "3   True  False               True  ...              False             False   \n",
              "4  False   True              False  ...               True             False   \n",
              "\n",
              "   RestingECG_LVH  RestingECG_Normal  RestingECG_ST  ExerciseAngina_N  \\\n",
              "0           False               True          False              True   \n",
              "1           False               True          False              True   \n",
              "2           False              False           True              True   \n",
              "3           False               True          False             False   \n",
              "4           False               True          False              True   \n",
              "\n",
              "   ExerciseAngina_Y  ST_Slope_Down  ST_Slope_Flat  ST_Slope_Up  \n",
              "0             False          False          False         True  \n",
              "1             False          False           True        False  \n",
              "2             False          False          False         True  \n",
              "3              True          False           True        False  \n",
              "4             False          False          False         True  \n",
              "\n",
              "[5 rows x 21 columns]"
            ],
            "text/html": [
              "\n",
              "  <div id=\"df-dddb842c-1041-407a-a7e7-0de51cbc97d5\" class=\"colab-df-container\">\n",
              "    <div>\n",
              "<style scoped>\n",
              "    .dataframe tbody tr th:only-of-type {\n",
              "        vertical-align: middle;\n",
              "    }\n",
              "\n",
              "    .dataframe tbody tr th {\n",
              "        vertical-align: top;\n",
              "    }\n",
              "\n",
              "    .dataframe thead th {\n",
              "        text-align: right;\n",
              "    }\n",
              "</style>\n",
              "<table border=\"1\" class=\"dataframe\">\n",
              "  <thead>\n",
              "    <tr style=\"text-align: right;\">\n",
              "      <th></th>\n",
              "      <th>Age</th>\n",
              "      <th>RestingBP</th>\n",
              "      <th>Cholesterol</th>\n",
              "      <th>FastingBS</th>\n",
              "      <th>MaxHR</th>\n",
              "      <th>Oldpeak</th>\n",
              "      <th>HeartDisease</th>\n",
              "      <th>Sex_F</th>\n",
              "      <th>Sex_M</th>\n",
              "      <th>ChestPainType_ASY</th>\n",
              "      <th>...</th>\n",
              "      <th>ChestPainType_NAP</th>\n",
              "      <th>ChestPainType_TA</th>\n",
              "      <th>RestingECG_LVH</th>\n",
              "      <th>RestingECG_Normal</th>\n",
              "      <th>RestingECG_ST</th>\n",
              "      <th>ExerciseAngina_N</th>\n",
              "      <th>ExerciseAngina_Y</th>\n",
              "      <th>ST_Slope_Down</th>\n",
              "      <th>ST_Slope_Flat</th>\n",
              "      <th>ST_Slope_Up</th>\n",
              "    </tr>\n",
              "  </thead>\n",
              "  <tbody>\n",
              "    <tr>\n",
              "      <th>0</th>\n",
              "      <td>40</td>\n",
              "      <td>140</td>\n",
              "      <td>289</td>\n",
              "      <td>0</td>\n",
              "      <td>172</td>\n",
              "      <td>0.0</td>\n",
              "      <td>0</td>\n",
              "      <td>False</td>\n",
              "      <td>True</td>\n",
              "      <td>False</td>\n",
              "      <td>...</td>\n",
              "      <td>False</td>\n",
              "      <td>False</td>\n",
              "      <td>False</td>\n",
              "      <td>True</td>\n",
              "      <td>False</td>\n",
              "      <td>True</td>\n",
              "      <td>False</td>\n",
              "      <td>False</td>\n",
              "      <td>False</td>\n",
              "      <td>True</td>\n",
              "    </tr>\n",
              "    <tr>\n",
              "      <th>1</th>\n",
              "      <td>49</td>\n",
              "      <td>160</td>\n",
              "      <td>180</td>\n",
              "      <td>0</td>\n",
              "      <td>156</td>\n",
              "      <td>1.0</td>\n",
              "      <td>1</td>\n",
              "      <td>True</td>\n",
              "      <td>False</td>\n",
              "      <td>False</td>\n",
              "      <td>...</td>\n",
              "      <td>True</td>\n",
              "      <td>False</td>\n",
              "      <td>False</td>\n",
              "      <td>True</td>\n",
              "      <td>False</td>\n",
              "      <td>True</td>\n",
              "      <td>False</td>\n",
              "      <td>False</td>\n",
              "      <td>True</td>\n",
              "      <td>False</td>\n",
              "    </tr>\n",
              "    <tr>\n",
              "      <th>2</th>\n",
              "      <td>37</td>\n",
              "      <td>130</td>\n",
              "      <td>283</td>\n",
              "      <td>0</td>\n",
              "      <td>98</td>\n",
              "      <td>0.0</td>\n",
              "      <td>0</td>\n",
              "      <td>False</td>\n",
              "      <td>True</td>\n",
              "      <td>False</td>\n",
              "      <td>...</td>\n",
              "      <td>False</td>\n",
              "      <td>False</td>\n",
              "      <td>False</td>\n",
              "      <td>False</td>\n",
              "      <td>True</td>\n",
              "      <td>True</td>\n",
              "      <td>False</td>\n",
              "      <td>False</td>\n",
              "      <td>False</td>\n",
              "      <td>True</td>\n",
              "    </tr>\n",
              "    <tr>\n",
              "      <th>3</th>\n",
              "      <td>48</td>\n",
              "      <td>138</td>\n",
              "      <td>214</td>\n",
              "      <td>0</td>\n",
              "      <td>108</td>\n",
              "      <td>1.5</td>\n",
              "      <td>1</td>\n",
              "      <td>True</td>\n",
              "      <td>False</td>\n",
              "      <td>True</td>\n",
              "      <td>...</td>\n",
              "      <td>False</td>\n",
              "      <td>False</td>\n",
              "      <td>False</td>\n",
              "      <td>True</td>\n",
              "      <td>False</td>\n",
              "      <td>False</td>\n",
              "      <td>True</td>\n",
              "      <td>False</td>\n",
              "      <td>True</td>\n",
              "      <td>False</td>\n",
              "    </tr>\n",
              "    <tr>\n",
              "      <th>4</th>\n",
              "      <td>54</td>\n",
              "      <td>150</td>\n",
              "      <td>195</td>\n",
              "      <td>0</td>\n",
              "      <td>122</td>\n",
              "      <td>0.0</td>\n",
              "      <td>0</td>\n",
              "      <td>False</td>\n",
              "      <td>True</td>\n",
              "      <td>False</td>\n",
              "      <td>...</td>\n",
              "      <td>True</td>\n",
              "      <td>False</td>\n",
              "      <td>False</td>\n",
              "      <td>True</td>\n",
              "      <td>False</td>\n",
              "      <td>True</td>\n",
              "      <td>False</td>\n",
              "      <td>False</td>\n",
              "      <td>False</td>\n",
              "      <td>True</td>\n",
              "    </tr>\n",
              "  </tbody>\n",
              "</table>\n",
              "<p>5 rows × 21 columns</p>\n",
              "</div>\n",
              "    <div class=\"colab-df-buttons\">\n",
              "\n",
              "  <div class=\"colab-df-container\">\n",
              "    <button class=\"colab-df-convert\" onclick=\"convertToInteractive('df-dddb842c-1041-407a-a7e7-0de51cbc97d5')\"\n",
              "            title=\"Convert this dataframe to an interactive table.\"\n",
              "            style=\"display:none;\">\n",
              "\n",
              "  <svg xmlns=\"http://www.w3.org/2000/svg\" height=\"24px\" viewBox=\"0 -960 960 960\">\n",
              "    <path d=\"M120-120v-720h720v720H120Zm60-500h600v-160H180v160Zm220 220h160v-160H400v160Zm0 220h160v-160H400v160ZM180-400h160v-160H180v160Zm440 0h160v-160H620v160ZM180-180h160v-160H180v160Zm440 0h160v-160H620v160Z\"/>\n",
              "  </svg>\n",
              "    </button>\n",
              "\n",
              "  <style>\n",
              "    .colab-df-container {\n",
              "      display:flex;\n",
              "      gap: 12px;\n",
              "    }\n",
              "\n",
              "    .colab-df-convert {\n",
              "      background-color: #E8F0FE;\n",
              "      border: none;\n",
              "      border-radius: 50%;\n",
              "      cursor: pointer;\n",
              "      display: none;\n",
              "      fill: #1967D2;\n",
              "      height: 32px;\n",
              "      padding: 0 0 0 0;\n",
              "      width: 32px;\n",
              "    }\n",
              "\n",
              "    .colab-df-convert:hover {\n",
              "      background-color: #E2EBFA;\n",
              "      box-shadow: 0px 1px 2px rgba(60, 64, 67, 0.3), 0px 1px 3px 1px rgba(60, 64, 67, 0.15);\n",
              "      fill: #174EA6;\n",
              "    }\n",
              "\n",
              "    .colab-df-buttons div {\n",
              "      margin-bottom: 4px;\n",
              "    }\n",
              "\n",
              "    [theme=dark] .colab-df-convert {\n",
              "      background-color: #3B4455;\n",
              "      fill: #D2E3FC;\n",
              "    }\n",
              "\n",
              "    [theme=dark] .colab-df-convert:hover {\n",
              "      background-color: #434B5C;\n",
              "      box-shadow: 0px 1px 3px 1px rgba(0, 0, 0, 0.15);\n",
              "      filter: drop-shadow(0px 1px 2px rgba(0, 0, 0, 0.3));\n",
              "      fill: #FFFFFF;\n",
              "    }\n",
              "  </style>\n",
              "\n",
              "    <script>\n",
              "      const buttonEl =\n",
              "        document.querySelector('#df-dddb842c-1041-407a-a7e7-0de51cbc97d5 button.colab-df-convert');\n",
              "      buttonEl.style.display =\n",
              "        google.colab.kernel.accessAllowed ? 'block' : 'none';\n",
              "\n",
              "      async function convertToInteractive(key) {\n",
              "        const element = document.querySelector('#df-dddb842c-1041-407a-a7e7-0de51cbc97d5');\n",
              "        const dataTable =\n",
              "          await google.colab.kernel.invokeFunction('convertToInteractive',\n",
              "                                                    [key], {});\n",
              "        if (!dataTable) return;\n",
              "\n",
              "        const docLinkHtml = 'Like what you see? Visit the ' +\n",
              "          '<a target=\"_blank\" href=https://colab.research.google.com/notebooks/data_table.ipynb>data table notebook</a>'\n",
              "          + ' to learn more about interactive tables.';\n",
              "        element.innerHTML = '';\n",
              "        dataTable['output_type'] = 'display_data';\n",
              "        await google.colab.output.renderOutput(dataTable, element);\n",
              "        const docLink = document.createElement('div');\n",
              "        docLink.innerHTML = docLinkHtml;\n",
              "        element.appendChild(docLink);\n",
              "      }\n",
              "    </script>\n",
              "  </div>\n",
              "\n",
              "\n",
              "<div id=\"df-a8e0eae3-24f5-43ca-988c-262a6d27bfdc\">\n",
              "  <button class=\"colab-df-quickchart\" onclick=\"quickchart('df-a8e0eae3-24f5-43ca-988c-262a6d27bfdc')\"\n",
              "            title=\"Suggest charts\"\n",
              "            style=\"display:none;\">\n",
              "\n",
              "<svg xmlns=\"http://www.w3.org/2000/svg\" height=\"24px\"viewBox=\"0 0 24 24\"\n",
              "     width=\"24px\">\n",
              "    <g>\n",
              "        <path d=\"M19 3H5c-1.1 0-2 .9-2 2v14c0 1.1.9 2 2 2h14c1.1 0 2-.9 2-2V5c0-1.1-.9-2-2-2zM9 17H7v-7h2v7zm4 0h-2V7h2v10zm4 0h-2v-4h2v4z\"/>\n",
              "    </g>\n",
              "</svg>\n",
              "  </button>\n",
              "\n",
              "<style>\n",
              "  .colab-df-quickchart {\n",
              "      --bg-color: #E8F0FE;\n",
              "      --fill-color: #1967D2;\n",
              "      --hover-bg-color: #E2EBFA;\n",
              "      --hover-fill-color: #174EA6;\n",
              "      --disabled-fill-color: #AAA;\n",
              "      --disabled-bg-color: #DDD;\n",
              "  }\n",
              "\n",
              "  [theme=dark] .colab-df-quickchart {\n",
              "      --bg-color: #3B4455;\n",
              "      --fill-color: #D2E3FC;\n",
              "      --hover-bg-color: #434B5C;\n",
              "      --hover-fill-color: #FFFFFF;\n",
              "      --disabled-bg-color: #3B4455;\n",
              "      --disabled-fill-color: #666;\n",
              "  }\n",
              "\n",
              "  .colab-df-quickchart {\n",
              "    background-color: var(--bg-color);\n",
              "    border: none;\n",
              "    border-radius: 50%;\n",
              "    cursor: pointer;\n",
              "    display: none;\n",
              "    fill: var(--fill-color);\n",
              "    height: 32px;\n",
              "    padding: 0;\n",
              "    width: 32px;\n",
              "  }\n",
              "\n",
              "  .colab-df-quickchart:hover {\n",
              "    background-color: var(--hover-bg-color);\n",
              "    box-shadow: 0 1px 2px rgba(60, 64, 67, 0.3), 0 1px 3px 1px rgba(60, 64, 67, 0.15);\n",
              "    fill: var(--button-hover-fill-color);\n",
              "  }\n",
              "\n",
              "  .colab-df-quickchart-complete:disabled,\n",
              "  .colab-df-quickchart-complete:disabled:hover {\n",
              "    background-color: var(--disabled-bg-color);\n",
              "    fill: var(--disabled-fill-color);\n",
              "    box-shadow: none;\n",
              "  }\n",
              "\n",
              "  .colab-df-spinner {\n",
              "    border: 2px solid var(--fill-color);\n",
              "    border-color: transparent;\n",
              "    border-bottom-color: var(--fill-color);\n",
              "    animation:\n",
              "      spin 1s steps(1) infinite;\n",
              "  }\n",
              "\n",
              "  @keyframes spin {\n",
              "    0% {\n",
              "      border-color: transparent;\n",
              "      border-bottom-color: var(--fill-color);\n",
              "      border-left-color: var(--fill-color);\n",
              "    }\n",
              "    20% {\n",
              "      border-color: transparent;\n",
              "      border-left-color: var(--fill-color);\n",
              "      border-top-color: var(--fill-color);\n",
              "    }\n",
              "    30% {\n",
              "      border-color: transparent;\n",
              "      border-left-color: var(--fill-color);\n",
              "      border-top-color: var(--fill-color);\n",
              "      border-right-color: var(--fill-color);\n",
              "    }\n",
              "    40% {\n",
              "      border-color: transparent;\n",
              "      border-right-color: var(--fill-color);\n",
              "      border-top-color: var(--fill-color);\n",
              "    }\n",
              "    60% {\n",
              "      border-color: transparent;\n",
              "      border-right-color: var(--fill-color);\n",
              "    }\n",
              "    80% {\n",
              "      border-color: transparent;\n",
              "      border-right-color: var(--fill-color);\n",
              "      border-bottom-color: var(--fill-color);\n",
              "    }\n",
              "    90% {\n",
              "      border-color: transparent;\n",
              "      border-bottom-color: var(--fill-color);\n",
              "    }\n",
              "  }\n",
              "</style>\n",
              "\n",
              "  <script>\n",
              "    async function quickchart(key) {\n",
              "      const quickchartButtonEl =\n",
              "        document.querySelector('#' + key + ' button');\n",
              "      quickchartButtonEl.disabled = true;  // To prevent multiple clicks.\n",
              "      quickchartButtonEl.classList.add('colab-df-spinner');\n",
              "      try {\n",
              "        const charts = await google.colab.kernel.invokeFunction(\n",
              "            'suggestCharts', [key], {});\n",
              "      } catch (error) {\n",
              "        console.error('Error during call to suggestCharts:', error);\n",
              "      }\n",
              "      quickchartButtonEl.classList.remove('colab-df-spinner');\n",
              "      quickchartButtonEl.classList.add('colab-df-quickchart-complete');\n",
              "    }\n",
              "    (() => {\n",
              "      let quickchartButtonEl =\n",
              "        document.querySelector('#df-a8e0eae3-24f5-43ca-988c-262a6d27bfdc button');\n",
              "      quickchartButtonEl.style.display =\n",
              "        google.colab.kernel.accessAllowed ? 'block' : 'none';\n",
              "    })();\n",
              "  </script>\n",
              "</div>\n",
              "\n",
              "    </div>\n",
              "  </div>\n"
            ],
            "application/vnd.google.colaboratory.intrinsic+json": {
              "type": "dataframe",
              "variable_name": "df"
            }
          },
          "metadata": {},
          "execution_count": 29
        }
      ]
    },
    {
      "cell_type": "code",
      "source": [
        "#remove target column(heart disease) from the dataset fro better training\n",
        "features = [x for x in df.columns if x != 'HeartDisease']\n",
        "len(features)"
      ],
      "metadata": {
        "colab": {
          "base_uri": "https://localhost:8080/"
        },
        "id": "3axLxlv8csgF",
        "outputId": "c80adeaa-dc83-4cef-f78e-432295e4a62a"
      },
      "execution_count": null,
      "outputs": [
        {
          "output_type": "execute_result",
          "data": {
            "text/plain": [
              "20"
            ]
          },
          "metadata": {},
          "execution_count": 35
        }
      ]
    },
    {
      "cell_type": "code",
      "source": [
        "#split the dataset\n",
        "#we need to split data into 4categories (x_train , y_train )...from features\n",
        "                            #and validation_test(x_val , y_val) from heartdisease\n",
        "\n",
        "X_train, X_val, y_train, y_val = train_test_split(df[features], df['HeartDisease'], train_size = 0.8, random_state = RANDOM_STATE)"
      ],
      "metadata": {
        "id": "Q_mB-2zwfi2q"
      },
      "execution_count": null,
      "outputs": []
    },
    {
      "cell_type": "code",
      "source": [
        "len(df) ,len(X_train) , len(X_val)"
      ],
      "metadata": {
        "colab": {
          "base_uri": "https://localhost:8080/"
        },
        "id": "TFa0iHEmhR0_",
        "outputId": "ae50b549-e14e-4fa8-cd70-9377ea6c2d96"
      },
      "execution_count": null,
      "outputs": [
        {
          "output_type": "execute_result",
          "data": {
            "text/plain": [
              "(918, 734, 184)"
            ]
          },
          "metadata": {},
          "execution_count": 39
        }
      ]
    },
    {
      "cell_type": "code",
      "source": [],
      "metadata": {
        "id": "zNYs5kMyhR3k"
      },
      "execution_count": null,
      "outputs": []
    },
    {
      "cell_type": "markdown",
      "source": [
        "#Building the models"
      ],
      "metadata": {
        "id": "qYi_tu2Gho4r"
      }
    },
    {
      "cell_type": "markdown",
      "source": [
        "#Decision Tree"
      ],
      "metadata": {
        "id": "4ry35eMR0u1Z"
      }
    },
    {
      "cell_type": "markdown",
      "source": [
        "**Decision Tree**\n",
        "\n",
        "\n",
        "There are several hyperparameters in the Decision Tree object from Scikit-learn. We will use only some of them here\n",
        "\n",
        "The hyperparameters we will use and investigate here are:\n",
        "\n",
        "min_samples_split: The minimum number of samples required to split an internal node.\n",
        "Choosing a higher min_samples_split can reduce the number of splits and may help to reduce overfitting.\n",
        "max_depth: The maximum depth of the tree.\n",
        "Choosing a lower max_depth can reduce the number of splits and may help to reduce overfitting."
      ],
      "metadata": {
        "id": "V6AjIh33huh8"
      }
    },
    {
      "cell_type": "code",
      "source": [
        "min_samples_split_list = [2,10, 30, 50, 100, 200, 300, 700] ## If the number is an integer, then it is the actual quantity of samples , if float its an avg\n",
        "max_depth_list = [1,2, 3, 4, 8, 16, 32, 64, None] # none means no depth limit"
      ],
      "metadata": {
        "id": "k0zZYXFghR7F"
      },
      "execution_count": null,
      "outputs": []
    },
    {
      "cell_type": "code",
      "source": [
        "accuracy_list_train = []\n",
        "accuracy_list_validation = []\n",
        "\n",
        "for samples_split in min_samples_split_list :\n",
        "  model = DecisionTreeClassifier(min_samples_split= samples_split , random_state= RANDOM_STATE).fit(X_train , y_train)\n",
        "\n",
        "  prediction_train = model.predict(X_train) #training data\n",
        "  prediction_validation = model.predict(X_val) #testing data\n",
        "\n",
        "  accuracy_train = accuracy_score(prediction_train , y_train)\n",
        "  accuracy_list_train.append(accuracy_train)\n",
        "\n",
        "  accuracy_test = accuracy_score(prediction_validation , y_val)\n",
        "  accuracy_list_validation.append(accuracy_test)\n",
        "\n",
        "plt.title ('Decision tree metrics')\n",
        "plt.ylabel('accuracy')\n",
        "plt.xlabel('min_samples_split_list')\n",
        "plt.xticks(ticks = range(len(min_samples_split_list )) ,labels=min_samples_split_list)\n",
        "plt.plot(accuracy_list_train)\n",
        "plt.plot(accuracy_list_validation)\n",
        "plt.legend(['Train','Validation'])"
      ],
      "metadata": {
        "colab": {
          "base_uri": "https://localhost:8080/",
          "height": 490
        },
        "id": "EPx1lDt4hR9r",
        "outputId": "9a77424c-3334-4a4c-bf7e-6c3dfcee116a"
      },
      "execution_count": null,
      "outputs": [
        {
          "output_type": "execute_result",
          "data": {
            "text/plain": [
              "<matplotlib.legend.Legend at 0x78ff65b4c910>"
            ]
          },
          "metadata": {},
          "execution_count": 51
        },
        {
          "output_type": "display_data",
          "data": {
            "text/plain": [
              "<Figure size 640x480 with 1 Axes>"
            ],
            "image/png": "[encoded data removed]"
          },
          "metadata": {}
        }
      ]
    },
    {
      "cell_type": "markdown",
      "source": [
        "we have to read based on underfit , overfit and right fit\n",
        "underfit - when training data < validation data\n",
        "overfit - both training and validation will start decreasing\n",
        "rightfit - the data which is between both\n",
        "\n",
        "\n",
        "\n",
        "increasing start at 10 and training accuracy is > validation so no overfit here\n",
        "\n",
        "decreaing trend start at > 50 from thew underfit\n",
        "\n",
        "**so the best split value is 50**"
      ],
      "metadata": {
        "id": "9J6a-xJXnZgb"
      }
    },
    {
      "cell_type": "code",
      "source": [
        "#try all the above with max_depth\n",
        "accuracy_list_train = []\n",
        "accuracy_list_validation = []\n",
        "\n",
        "for depth in max_depth_list :\n",
        "  model = DecisionTreeClassifier(max_depth = depth , random_state= RANDOM_STATE).fit(X_train , y_train)\n",
        "\n",
        "  prediction_train = model.predict(X_train) #training data\n",
        "  prediction_validation = model.predict(X_val) #testing data\n",
        "\n",
        "  accuracy_train = accuracy_score(prediction_train , y_train)\n",
        "  accuracy_list_train.append(accuracy_train)\n",
        "\n",
        "  accuracy_test = accuracy_score(prediction_validation , y_val)\n",
        "  accuracy_list_validation.append(accuracy_test)\n",
        "\n",
        "plt.title ('Decision tree metrics')\n",
        "plt.ylabel('accuracy')\n",
        "plt.xlabel('max_depth_list')\n",
        "plt.xticks(ticks = range(len(max_depth_list )) ,labels=max_depth_list)\n",
        "plt.plot(accuracy_list_train)\n",
        "plt.plot(accuracy_list_validation)\n",
        "plt.legend(['Train','Validation'])"
      ],
      "metadata": {
        "colab": {
          "base_uri": "https://localhost:8080/",
          "height": 490
        },
        "id": "xuWuNn33hR_Z",
        "outputId": "536dd822-f718-4714-d10a-0cb6b6959a91"
      },
      "execution_count": null,
      "outputs": [
        {
          "output_type": "execute_result",
          "data": {
            "text/plain": [
              "<matplotlib.legend.Legend at 0x78ff454d7160>"
            ]
          },
          "metadata": {},
          "execution_count": 54
        },
        {
          "output_type": "display_data",
          "data": {
            "text/plain": [
              "<Figure size 640x480 with 1 Axes>"
            ],
            "image/png": "[encoded data removed]"
          },
          "metadata": {}
        }
      ]
    },
    {
      "cell_type": "markdown",
      "source": [
        "graph\n",
        "\n",
        "train < validation ...underfit  untill (3)\n",
        "\n",
        "validation decreasing after 4 ..from here overfit\n",
        "\n",
        "rightfit ...4 depth"
      ],
      "metadata": {
        "id": "Swty6CSJobpH"
      }
    },
    {
      "cell_type": "code",
      "source": [
        "#right fit for min_samples_split_list = 50 , max_depth_list = 3\n",
        "Decision_tree_model = DecisionTreeClassifier(min_samples_split = 50 , max_depth= 4 , random_state=RANDOM_STATE).fit(X_train,y_train)"
      ],
      "metadata": {
        "id": "oVCF1sSihSBd"
      },
      "execution_count": null,
      "outputs": []
    },
    {
      "cell_type": "code",
      "source": [
        "print(f\"Decision_training_accuracy_score : {accuracy_score(Decision_tree_model.predict(X_train) ,y_train) :.4f}\")\n",
        "print(f\"Decision_Testing accuracy score : {accuracy_score(Decision_tree_model.predict(X_val) ,y_val):.4f}\")\n"
      ],
      "metadata": {
        "colab": {
          "base_uri": "https://localhost:8080/"
        },
        "id": "frlI24-IhSDb",
        "outputId": "ac99b723-cc9d-49e8-b0e6-b4db38f4804c"
      },
      "execution_count": null,
      "outputs": [
        {
          "output_type": "stream",
          "name": "stdout",
          "text": [
            "Decision_training_accuracy_score : 0.8665\n",
            "Decision_Testing accuracy score : 0.8696\n"
          ]
        }
      ]
    },
    {
      "cell_type": "markdown",
      "source": [
        "#Random Forest"
      ],
      "metadata": {
        "id": "LzdKWDUjrDGw"
      }
    },
    {
      "cell_type": "code",
      "source": [
        "min_samples_split_list = [2,10, 30, 50, 100, 200, 300, 700]\n",
        "max_depth_list = [2, 4, 8, 16, 32, 64, None]\n",
        "n_estimators_list = [10,50,100,500]\n",
        "#we have to check based on all above hyperparameters which suits best for us"
      ],
      "metadata": {
        "id": "KufGPi_xrHu2"
      },
      "execution_count": null,
      "outputs": []
    },
    {
      "cell_type": "code",
      "source": [
        "accuracy_list_train = []\n",
        "accuracy_list_val = []\n",
        "\n",
        "#based on split\n",
        "for sample_split in  min_samples_split_list :\n",
        "  model = RandomForestClassifier(min_samples_split=sample_split , random_state= RANDOM_STATE).fit(X_train ,y_train)\n",
        "\n",
        "  accuracy_train = accuracy_score(model.predict(X_train) , y_train)\n",
        "  accuracy_list_train.append(accuracy_train)\n",
        "  accuracy_test = accuracy_score(model.predict(X_val) , y_val)\n",
        "  accuracy_list_val.append(accuracy_test)\n",
        "\n",
        "  plt.close()\n",
        "  plt.title('Randomforestmetrics')\n",
        "  plt.xlabel('min_samples_split')\n",
        "  plt.ylabel('accuracy')\n",
        "  plt.xticks(ticks = range(len(min_samples_split_list )),labels=min_samples_split_list)\n",
        "  plt.plot(accuracy_list_train ,  color='blue', label='Train')\n",
        "  plt.plot(accuracy_list_val ,color='orange', label='validation' )\n",
        "  plt.legend()\n",
        "\n",
        "\n",
        "\n"
      ],
      "metadata": {
        "colab": {
          "base_uri": "https://localhost:8080/",
          "height": 472
        },
        "collapsed": true,
        "id": "w5AayBPirHxc",
        "outputId": "bd386259-b24d-4e6d-932f-96eb55e13c83"
      },
      "execution_count": null,
      "outputs": [
        {
          "output_type": "display_data",
          "data": {
            "text/plain": [
              "<Figure size 640x480 with 1 Axes>"
            ],
            "image/png": "[encoded data removed]"
          },
          "metadata": {}
        }
      ]
    },
    {
      "cell_type": "markdown",
      "source": [
        "underfit(train<validation) : no underfit\n",
        "\n",
        "overfit (decreasing validation) : 10\n",
        "\n",
        "rightfit_split : 10"
      ],
      "metadata": {
        "id": "CrQc6Dm3yFC0"
      }
    },
    {
      "cell_type": "code",
      "source": [
        "#based on depth list\n",
        "random_depth_accuracy_trainlist = []\n",
        "random_depth_accuracy_testlist = []\n",
        "\n",
        "for  depth in max_depth_list :\n",
        "\n",
        "  model_depth = RandomForestClassifier(max_depth = depth , random_state = RANDOM_STATE).fit(X_train ,y_train)\n",
        "  random_depth_accuracy_train = accuracy_score(model_depth.predict(X_train),y_train)\n",
        "  random_depth_accuracy_test = accuracy_score(model_depth.predict(X_val),y_val)\n",
        "  random_depth_accuracy_trainlist.append(random_depth_accuracy_train)\n",
        "  random_depth_accuracy_testlist.append(random_depth_accuracy_test)\n",
        "\n",
        "  plt.close()\n",
        "  plt.title('Random forest metrics')\n",
        "  plt.xlabel('max_depth')\n",
        "  plt.ylabel('accuracy')\n",
        "  plt.xticks(ticks = range(len(max_depth_list )),labels=max_depth_list)\n",
        "  plt.plot(random_depth_accuracy_trainlist , color='blue', label='Train')\n",
        "  plt.plot(random_depth_accuracy_testlist , color='orange', label='validation')\n",
        "  plt.legend(['Train' , 'validation'])"
      ],
      "metadata": {
        "colab": {
          "base_uri": "https://localhost:8080/",
          "height": 472
        },
        "id": "T0E3l-q0rHzt",
        "outputId": "a29c23a7-128f-4b62-f473-ca0ce03abb60"
      },
      "execution_count": null,
      "outputs": [
        {
          "output_type": "display_data",
          "data": {
            "text/plain": [
              "<Figure size 640x480 with 1 Axes>"
            ],
            "image/png": "[encoded data removed]"
          },
          "metadata": {}
        }
      ]
    },
    {
      "cell_type": "markdown",
      "source": [
        "underfit(train<validation) : no underfit\n",
        "\n",
        "overfit (decreasing validation) : 16\n",
        "\n",
        "rightfit_depth : 16"
      ],
      "metadata": {
        "id": "uCCTUD-MyjEj"
      }
    },
    {
      "cell_type": "code",
      "source": [
        "accuracy_list_train = []\n",
        "accuracy_list_val = []\n",
        "\n",
        "#based on split\n",
        "for estimators in  n_estimators_list :\n",
        "  model = RandomForestClassifier(n_estimators=estimators , random_state= RANDOM_STATE).fit(X_train ,y_train)\n",
        "\n",
        "  accuracy_train = accuracy_score(model.predict(X_train) , y_train)\n",
        "  accuracy_list_train.append(accuracy_train)\n",
        "  accuracy_test = accuracy_score(model.predict(X_val) , y_val)\n",
        "  accuracy_list_val.append(accuracy_test)\n",
        "  plt.close()\n",
        "  plt.title('Randomforestmetrics')\n",
        "  plt.xlabel('estimators')\n",
        "  plt.ylabel('accuracy')\n",
        "  plt.xticks(ticks = range(len(n_estimators_list )),labels=n_estimators_list)\n",
        "  plt.plot(accuracy_list_train , color='blue', label='Train')\n",
        "  plt.plot(accuracy_list_val , color='orange', label='validation')\n",
        "  plt.legend(['Train' , 'validation'])\n"
      ],
      "metadata": {
        "colab": {
          "base_uri": "https://localhost:8080/",
          "height": 472
        },
        "id": "ZDjsJFrQrH15",
        "outputId": "a5f78ff7-ca70-4511-f9c1-a69575932860"
      },
      "execution_count": null,
      "outputs": [
        {
          "output_type": "display_data",
          "data": {
            "text/plain": [
              "<Figure size 640x480 with 1 Axes>"
            ],
            "image/png": "[encoded data removed]"
          },
          "metadata": {}
        }
      ]
    },
    {
      "cell_type": "markdown",
      "source": [
        "underfit(train<validation) : no underfit\n",
        "\n",
        "overfit (decreasing validation) : 100\n",
        "\n",
        "rightfit_ estimators: 100"
      ],
      "metadata": {
        "id": "iK_YU5MCzxQC"
      }
    },
    {
      "cell_type": "markdown",
      "source": [],
      "metadata": {
        "id": "j7N_rJYn0Xuq"
      }
    },
    {
      "cell_type": "code",
      "source": [
        "Random_forest_model = RandomForestClassifier(min_samples_split= 10 , max_depth= 16 , n_estimators= 100 , random_state= RANDOM_STATE).fit(X_train , y_train)"
      ],
      "metadata": {
        "id": "F0PTPE-WrH4A"
      },
      "execution_count": null,
      "outputs": []
    },
    {
      "cell_type": "code",
      "source": [
        "print(f\"Random_training_accuracy_score : {accuracy_score(Random_forest_model.predict(X_train) ,y_train) :.4f}\")\n",
        "print(f\"Random_Testing accuracy score : {accuracy_score(Random_forest_model.predict(X_val) ,y_val):.4f}\")\n"
      ],
      "metadata": {
        "colab": {
          "base_uri": "https://localhost:8080/"
        },
        "id": "5fsH_s5HrH6M",
        "outputId": "c7764552-6476-478a-871b-47b415ec3ff2"
      },
      "execution_count": null,
      "outputs": [
        {
          "output_type": "stream",
          "name": "stdout",
          "text": [
            "Random_training_accuracy_score : 0.9305\n",
            "Random_Testing accuracy score : 0.8913\n"
          ]
        }
      ]
    },
    {
      "cell_type": "markdown",
      "source": [
        "#XGBOOST"
      ],
      "metadata": {
        "id": "7ujjZHcv1CjX"
      }
    },
    {
      "cell_type": "markdown",
      "source": [
        "The boosting methods train several trees, but instead of them being uncorrelated to each other, now the trees are fit one after the other in order to minimize the error.\n",
        "\n",
        "The model has the same parameters as a decision tree, plus the learning rate.\n",
        "- The learning rate is the size of the step on the Gradient Descent method that the XGBoost uses internally to minimize the error on each train step.\n",
        "\n",
        "One interesting thing about the XGBoost is that during fitting, it can take in an evaluation dataset of the form `(X_val,y_val)`.\n",
        "- On each iteration, it measures the cost (or evaluation metric) on the evaluation datasets.\n",
        "- Once the cost (or metric) stops decreasing for a number of rounds (called early_stopping_rounds), the training will stop.\n",
        "- More iterations lead to more estimators, and more estimators can result in overfitting.  \n",
        "- By stopping once the validation metric no longer improves, we can limit the number of estimators created, and reduce overfitting.\n",
        "\n",
        "here we can keep early_stopping rounds which mean when validation starts decreaing it will start for next roundS(how much we set ) and still if itsdecreaing then it will terminate and give result"
      ],
      "metadata": {
        "id": "64CDUswd1ZbX"
      }
    },
    {
      "cell_type": "code",
      "source": [
        "#lets split our training data into 80 20 for fit eval (basically in th total data 60%train , 20%fit 20%test)\n",
        "X_train_fit, X_train_eval, y_train_fit, y_train_eval = train_test_split(X_train,  y_train, train_size=0.8,random_state=RANDOM_STATE)"
      ],
      "metadata": {
        "id": "iftcUVlN1JUU"
      },
      "execution_count": null,
      "outputs": []
    },
    {
      "cell_type": "code",
      "source": [
        "xgb_model = XGBClassifier(n_estimators = 500 , learning_rate = 0.01 , verbosity = 1 ,\n",
        "                          random_state = RANDOM_STATE , early_stopping_rounds = 10).fit(X_train_fit, y_train_fit,  eval_set = [(X_train_eval,y_train_eval)])\n"
      ],
      "metadata": {
        "colab": {
          "base_uri": "https://localhost:8080/"
        },
        "id": "iHm9LVF61JWs",
        "outputId": "0f33f708-e043-491c-94b9-225c3d055aee"
      },
      "execution_count": null,
      "outputs": [
        {
          "output_type": "stream",
          "name": "stdout",
          "text": [
            "[0]\tvalidation_0-logloss:0.68459\n",
            "[1]\tvalidation_0-logloss:0.67995\n",
            "[2]\tvalidation_0-logloss:0.67531\n",
            "[3]\tvalidation_0-logloss:0.67079\n",
            "[4]\tvalidation_0-logloss:0.66642\n",
            "[5]\tvalidation_0-logloss:0.66209\n",
            "[6]\tvalidation_0-logloss:0.65787\n",
            "[7]\tvalidation_0-logloss:0.65392\n",
            "[8]\tvalidation_0-logloss:0.64983\n",
            "[9]\tvalidation_0-logloss:0.64596\n",
            "[10]\tvalidation_0-logloss:0.64248\n",
            "[11]\tvalidation_0-logloss:0.63852\n",
            "[12]\tvalidation_0-logloss:0.63495\n",
            "[13]\tvalidation_0-logloss:0.63110\n",
            "[14]\tvalidation_0-logloss:0.62759\n",
            "[15]\tvalidation_0-logloss:0.62382\n",
            "[16]\tvalidation_0-logloss:0.62038\n",
            "[17]\tvalidation_0-logloss:0.61739\n",
            "[18]\tvalidation_0-logloss:0.61406\n",
            "[19]\tvalidation_0-logloss:0.61067\n",
            "[20]\tvalidation_0-logloss:0.60755\n",
            "[21]\tvalidation_0-logloss:0.60427\n",
            "[22]\tvalidation_0-logloss:0.60112\n",
            "[23]\tvalidation_0-logloss:0.59798\n",
            "[24]\tvalidation_0-logloss:0.59511\n",
            "[25]\tvalidation_0-logloss:0.59199\n",
            "[26]\tvalidation_0-logloss:0.58909\n",
            "[27]\tvalidation_0-logloss:0.58617\n",
            "[28]\tvalidation_0-logloss:0.58352\n",
            "[29]\tvalidation_0-logloss:0.58078\n",
            "[30]\tvalidation_0-logloss:0.57824\n",
            "[31]\tvalidation_0-logloss:0.57560\n",
            "[32]\tvalidation_0-logloss:0.57315\n",
            "[33]\tvalidation_0-logloss:0.57049\n",
            "[34]\tvalidation_0-logloss:0.56798\n",
            "[35]\tvalidation_0-logloss:0.56550\n",
            "[36]\tvalidation_0-logloss:0.56323\n",
            "[37]\tvalidation_0-logloss:0.56096\n",
            "[38]\tvalidation_0-logloss:0.55872\n",
            "[39]\tvalidation_0-logloss:0.55647\n",
            "[40]\tvalidation_0-logloss:0.55412\n",
            "[41]\tvalidation_0-logloss:0.55209\n",
            "[42]\tvalidation_0-logloss:0.54986\n",
            "[43]\tvalidation_0-logloss:0.54792\n",
            "[44]\tvalidation_0-logloss:0.54571\n",
            "[45]\tvalidation_0-logloss:0.54386\n",
            "[46]\tvalidation_0-logloss:0.54174\n",
            "[47]\tvalidation_0-logloss:0.53979\n",
            "[48]\tvalidation_0-logloss:0.53788\n",
            "[49]\tvalidation_0-logloss:0.53572\n",
            "[50]\tvalidation_0-logloss:0.53411\n",
            "[51]\tvalidation_0-logloss:0.53210\n",
            "[52]\tvalidation_0-logloss:0.53039\n",
            "[53]\tvalidation_0-logloss:0.52853\n",
            "[54]\tvalidation_0-logloss:0.52675\n",
            "[55]\tvalidation_0-logloss:0.52509\n",
            "[56]\tvalidation_0-logloss:0.52345\n",
            "[57]\tvalidation_0-logloss:0.52166\n",
            "[58]\tvalidation_0-logloss:0.52031\n",
            "[59]\tvalidation_0-logloss:0.51858\n",
            "[60]\tvalidation_0-logloss:0.51706\n",
            "[61]\tvalidation_0-logloss:0.51530\n",
            "[62]\tvalidation_0-logloss:0.51392\n",
            "[63]\tvalidation_0-logloss:0.51244\n",
            "[64]\tvalidation_0-logloss:0.51087\n",
            "[65]\tvalidation_0-logloss:0.50918\n",
            "[66]\tvalidation_0-logloss:0.50766\n",
            "[67]\tvalidation_0-logloss:0.50603\n",
            "[68]\tvalidation_0-logloss:0.50460\n",
            "[69]\tvalidation_0-logloss:0.50299\n",
            "[70]\tvalidation_0-logloss:0.50132\n",
            "[71]\tvalidation_0-logloss:0.50013\n",
            "[72]\tvalidation_0-logloss:0.49904\n",
            "[73]\tvalidation_0-logloss:0.49777\n",
            "[74]\tvalidation_0-logloss:0.49624\n",
            "[75]\tvalidation_0-logloss:0.49505\n",
            "[76]\tvalidation_0-logloss:0.49378\n",
            "[77]\tvalidation_0-logloss:0.49258\n",
            "[78]\tvalidation_0-logloss:0.49126\n",
            "[79]\tvalidation_0-logloss:0.49005\n",
            "[80]\tvalidation_0-logloss:0.48887\n",
            "[81]\tvalidation_0-logloss:0.48802\n",
            "[82]\tvalidation_0-logloss:0.48670\n",
            "[83]\tvalidation_0-logloss:0.48563\n",
            "[84]\tvalidation_0-logloss:0.48454\n",
            "[85]\tvalidation_0-logloss:0.48348\n",
            "[86]\tvalidation_0-logloss:0.48247\n",
            "[87]\tvalidation_0-logloss:0.48120\n",
            "[88]\tvalidation_0-logloss:0.48030\n",
            "[89]\tvalidation_0-logloss:0.47937\n",
            "[90]\tvalidation_0-logloss:0.47847\n",
            "[91]\tvalidation_0-logloss:0.47736\n",
            "[92]\tvalidation_0-logloss:0.47653\n",
            "[93]\tvalidation_0-logloss:0.47564\n",
            "[94]\tvalidation_0-logloss:0.47470\n",
            "[95]\tvalidation_0-logloss:0.47392\n",
            "[96]\tvalidation_0-logloss:0.47303\n",
            "[97]\tvalidation_0-logloss:0.47225\n",
            "[98]\tvalidation_0-logloss:0.47134\n",
            "[99]\tvalidation_0-logloss:0.47049\n",
            "[100]\tvalidation_0-logloss:0.47003\n",
            "[101]\tvalidation_0-logloss:0.46894\n",
            "[102]\tvalidation_0-logloss:0.46823\n",
            "[103]\tvalidation_0-logloss:0.46782\n",
            "[104]\tvalidation_0-logloss:0.46719\n",
            "[105]\tvalidation_0-logloss:0.46625\n",
            "[106]\tvalidation_0-logloss:0.46560\n",
            "[107]\tvalidation_0-logloss:0.46499\n",
            "[108]\tvalidation_0-logloss:0.46406\n",
            "[109]\tvalidation_0-logloss:0.46369\n",
            "[110]\tvalidation_0-logloss:0.46296\n",
            "[111]\tvalidation_0-logloss:0.46225\n",
            "[112]\tvalidation_0-logloss:0.46150\n",
            "[113]\tvalidation_0-logloss:0.46095\n",
            "[114]\tvalidation_0-logloss:0.46042\n",
            "[115]\tvalidation_0-logloss:0.45977\n",
            "[116]\tvalidation_0-logloss:0.45934\n",
            "[117]\tvalidation_0-logloss:0.45867\n",
            "[118]\tvalidation_0-logloss:0.45838\n",
            "[119]\tvalidation_0-logloss:0.45772\n",
            "[120]\tvalidation_0-logloss:0.45718\n",
            "[121]\tvalidation_0-logloss:0.45663\n",
            "[122]\tvalidation_0-logloss:0.45619\n",
            "[123]\tvalidation_0-logloss:0.45573\n",
            "[124]\tvalidation_0-logloss:0.45503\n",
            "[125]\tvalidation_0-logloss:0.45474\n",
            "[126]\tvalidation_0-logloss:0.45432\n",
            "[127]\tvalidation_0-logloss:0.45383\n",
            "[128]\tvalidation_0-logloss:0.45356\n",
            "[129]\tvalidation_0-logloss:0.45297\n",
            "[130]\tvalidation_0-logloss:0.45255\n",
            "[131]\tvalidation_0-logloss:0.45214\n",
            "[132]\tvalidation_0-logloss:0.45156\n",
            "[133]\tvalidation_0-logloss:0.45081\n",
            "[134]\tvalidation_0-logloss:0.45024\n",
            "[135]\tvalidation_0-logloss:0.44984\n",
            "[136]\tvalidation_0-logloss:0.44900\n",
            "[137]\tvalidation_0-logloss:0.44861\n",
            "[138]\tvalidation_0-logloss:0.44814\n",
            "[139]\tvalidation_0-logloss:0.44764\n",
            "[140]\tvalidation_0-logloss:0.44693\n",
            "[141]\tvalidation_0-logloss:0.44633\n",
            "[142]\tvalidation_0-logloss:0.44607\n",
            "[143]\tvalidation_0-logloss:0.44541\n",
            "[144]\tvalidation_0-logloss:0.44500\n",
            "[145]\tvalidation_0-logloss:0.44454\n",
            "[146]\tvalidation_0-logloss:0.44399\n",
            "[147]\tvalidation_0-logloss:0.44374\n",
            "[148]\tvalidation_0-logloss:0.44303\n",
            "[149]\tvalidation_0-logloss:0.44275\n",
            "[150]\tvalidation_0-logloss:0.44211\n",
            "[151]\tvalidation_0-logloss:0.44151\n",
            "[152]\tvalidation_0-logloss:0.44096\n",
            "[153]\tvalidation_0-logloss:0.44070\n",
            "[154]\tvalidation_0-logloss:0.44009\n",
            "[155]\tvalidation_0-logloss:0.43952\n",
            "[156]\tvalidation_0-logloss:0.43890\n",
            "[157]\tvalidation_0-logloss:0.43859\n",
            "[158]\tvalidation_0-logloss:0.43805\n",
            "[159]\tvalidation_0-logloss:0.43745\n",
            "[160]\tvalidation_0-logloss:0.43718\n",
            "[161]\tvalidation_0-logloss:0.43667\n",
            "[162]\tvalidation_0-logloss:0.43640\n",
            "[163]\tvalidation_0-logloss:0.43587\n",
            "[164]\tvalidation_0-logloss:0.43579\n",
            "[165]\tvalidation_0-logloss:0.43524\n",
            "[166]\tvalidation_0-logloss:0.43501\n",
            "[167]\tvalidation_0-logloss:0.43464\n",
            "[168]\tvalidation_0-logloss:0.43439\n",
            "[169]\tvalidation_0-logloss:0.43408\n",
            "[170]\tvalidation_0-logloss:0.43386\n",
            "[171]\tvalidation_0-logloss:0.43352\n",
            "[172]\tvalidation_0-logloss:0.43301\n",
            "[173]\tvalidation_0-logloss:0.43280\n",
            "[174]\tvalidation_0-logloss:0.43232\n",
            "[175]\tvalidation_0-logloss:0.43198\n",
            "[176]\tvalidation_0-logloss:0.43196\n",
            "[177]\tvalidation_0-logloss:0.43158\n",
            "[178]\tvalidation_0-logloss:0.43135\n",
            "[179]\tvalidation_0-logloss:0.43098\n",
            "[180]\tvalidation_0-logloss:0.43079\n",
            "[181]\tvalidation_0-logloss:0.43053\n",
            "[182]\tvalidation_0-logloss:0.43041\n",
            "[183]\tvalidation_0-logloss:0.42998\n",
            "[184]\tvalidation_0-logloss:0.42980\n",
            "[185]\tvalidation_0-logloss:0.42981\n",
            "[186]\tvalidation_0-logloss:0.42932\n",
            "[187]\tvalidation_0-logloss:0.42932\n",
            "[188]\tvalidation_0-logloss:0.42904\n",
            "[189]\tvalidation_0-logloss:0.42859\n",
            "[190]\tvalidation_0-logloss:0.42858\n",
            "[191]\tvalidation_0-logloss:0.42831\n",
            "[192]\tvalidation_0-logloss:0.42813\n",
            "[193]\tvalidation_0-logloss:0.42782\n",
            "[194]\tvalidation_0-logloss:0.42750\n",
            "[195]\tvalidation_0-logloss:0.42751\n",
            "[196]\tvalidation_0-logloss:0.42713\n",
            "[197]\tvalidation_0-logloss:0.42670\n",
            "[198]\tvalidation_0-logloss:0.42634\n",
            "[199]\tvalidation_0-logloss:0.42604\n",
            "[200]\tvalidation_0-logloss:0.42574\n",
            "[201]\tvalidation_0-logloss:0.42545\n",
            "[202]\tvalidation_0-logloss:0.42517\n",
            "[203]\tvalidation_0-logloss:0.42488\n",
            "[204]\tvalidation_0-logloss:0.42462\n",
            "[205]\tvalidation_0-logloss:0.42440\n",
            "[206]\tvalidation_0-logloss:0.42415\n",
            "[207]\tvalidation_0-logloss:0.42390\n",
            "[208]\tvalidation_0-logloss:0.42367\n",
            "[209]\tvalidation_0-logloss:0.42333\n",
            "[210]\tvalidation_0-logloss:0.42314\n",
            "[211]\tvalidation_0-logloss:0.42292\n",
            "[212]\tvalidation_0-logloss:0.42271\n",
            "[213]\tvalidation_0-logloss:0.42255\n",
            "[214]\tvalidation_0-logloss:0.42230\n",
            "[215]\tvalidation_0-logloss:0.42215\n",
            "[216]\tvalidation_0-logloss:0.42191\n",
            "[217]\tvalidation_0-logloss:0.42174\n",
            "[218]\tvalidation_0-logloss:0.42151\n",
            "[219]\tvalidation_0-logloss:0.42134\n",
            "[220]\tvalidation_0-logloss:0.42112\n",
            "[221]\tvalidation_0-logloss:0.42097\n",
            "[222]\tvalidation_0-logloss:0.42067\n",
            "[223]\tvalidation_0-logloss:0.42062\n",
            "[224]\tvalidation_0-logloss:0.42034\n",
            "[225]\tvalidation_0-logloss:0.42021\n",
            "[226]\tvalidation_0-logloss:0.41998\n",
            "[227]\tvalidation_0-logloss:0.41971\n",
            "[228]\tvalidation_0-logloss:0.41935\n",
            "[229]\tvalidation_0-logloss:0.41932\n",
            "[230]\tvalidation_0-logloss:0.41907\n",
            "[231]\tvalidation_0-logloss:0.41907\n",
            "[232]\tvalidation_0-logloss:0.41880\n",
            "[233]\tvalidation_0-logloss:0.41863\n",
            "[234]\tvalidation_0-logloss:0.41840\n",
            "[235]\tvalidation_0-logloss:0.41840\n",
            "[236]\tvalidation_0-logloss:0.41842\n",
            "[237]\tvalidation_0-logloss:0.41841\n",
            "[238]\tvalidation_0-logloss:0.41824\n",
            "[239]\tvalidation_0-logloss:0.41839\n",
            "[240]\tvalidation_0-logloss:0.41819\n",
            "[241]\tvalidation_0-logloss:0.41801\n",
            "[242]\tvalidation_0-logloss:0.41802\n",
            "[243]\tvalidation_0-logloss:0.41790\n",
            "[244]\tvalidation_0-logloss:0.41793\n",
            "[245]\tvalidation_0-logloss:0.41798\n",
            "[246]\tvalidation_0-logloss:0.41780\n",
            "[247]\tvalidation_0-logloss:0.41781\n",
            "[248]\tvalidation_0-logloss:0.41752\n",
            "[249]\tvalidation_0-logloss:0.41756\n",
            "[250]\tvalidation_0-logloss:0.41767\n",
            "[251]\tvalidation_0-logloss:0.41758\n",
            "[252]\tvalidation_0-logloss:0.41740\n",
            "[253]\tvalidation_0-logloss:0.41735\n",
            "[254]\tvalidation_0-logloss:0.41727\n",
            "[255]\tvalidation_0-logloss:0.41729\n",
            "[256]\tvalidation_0-logloss:0.41733\n",
            "[257]\tvalidation_0-logloss:0.41733\n",
            "[258]\tvalidation_0-logloss:0.41726\n",
            "[259]\tvalidation_0-logloss:0.41719\n",
            "[260]\tvalidation_0-logloss:0.41712\n",
            "[261]\tvalidation_0-logloss:0.41699\n",
            "[262]\tvalidation_0-logloss:0.41706\n",
            "[263]\tvalidation_0-logloss:0.41692\n",
            "[264]\tvalidation_0-logloss:0.41672\n",
            "[265]\tvalidation_0-logloss:0.41666\n",
            "[266]\tvalidation_0-logloss:0.41666\n",
            "[267]\tvalidation_0-logloss:0.41653\n",
            "[268]\tvalidation_0-logloss:0.41655\n",
            "[269]\tvalidation_0-logloss:0.41651\n",
            "[270]\tvalidation_0-logloss:0.41643\n",
            "[271]\tvalidation_0-logloss:0.41642\n",
            "[272]\tvalidation_0-logloss:0.41630\n",
            "[273]\tvalidation_0-logloss:0.41635\n",
            "[274]\tvalidation_0-logloss:0.41640\n",
            "[275]\tvalidation_0-logloss:0.41637\n",
            "[276]\tvalidation_0-logloss:0.41631\n",
            "[277]\tvalidation_0-logloss:0.41629\n",
            "[278]\tvalidation_0-logloss:0.41629\n",
            "[279]\tvalidation_0-logloss:0.41643\n",
            "[280]\tvalidation_0-logloss:0.41630\n",
            "[281]\tvalidation_0-logloss:0.41618\n",
            "[282]\tvalidation_0-logloss:0.41613\n",
            "[283]\tvalidation_0-logloss:0.41624\n",
            "[284]\tvalidation_0-logloss:0.41602\n",
            "[285]\tvalidation_0-logloss:0.41610\n",
            "[286]\tvalidation_0-logloss:0.41589\n",
            "[287]\tvalidation_0-logloss:0.41591\n",
            "[288]\tvalidation_0-logloss:0.41595\n",
            "[289]\tvalidation_0-logloss:0.41574\n",
            "[290]\tvalidation_0-logloss:0.41553\n",
            "[291]\tvalidation_0-logloss:0.41553\n",
            "[292]\tvalidation_0-logloss:0.41549\n",
            "[293]\tvalidation_0-logloss:0.41550\n",
            "[294]\tvalidation_0-logloss:0.41557\n",
            "[295]\tvalidation_0-logloss:0.41554\n",
            "[296]\tvalidation_0-logloss:0.41552\n",
            "[297]\tvalidation_0-logloss:0.41549\n",
            "[298]\tvalidation_0-logloss:0.41545\n",
            "[299]\tvalidation_0-logloss:0.41543\n",
            "[300]\tvalidation_0-logloss:0.41545\n",
            "[301]\tvalidation_0-logloss:0.41543\n",
            "[302]\tvalidation_0-logloss:0.41555\n",
            "[303]\tvalidation_0-logloss:0.41564\n",
            "[304]\tvalidation_0-logloss:0.41563\n",
            "[305]\tvalidation_0-logloss:0.41574\n",
            "[306]\tvalidation_0-logloss:0.41573\n",
            "[307]\tvalidation_0-logloss:0.41586\n",
            "[308]\tvalidation_0-logloss:0.41585\n",
            "[309]\tvalidation_0-logloss:0.41584\n",
            "[310]\tvalidation_0-logloss:0.41578\n"
          ]
        }
      ]
    },
    {
      "cell_type": "code",
      "source": [
        "xgb_model.best_iteration"
      ],
      "metadata": {
        "colab": {
          "base_uri": "https://localhost:8080/"
        },
        "id": "TWF128A41JYn",
        "outputId": "44b2453f-4851-4276-8164-3434614bb69b"
      },
      "execution_count": null,
      "outputs": [
        {
          "output_type": "execute_result",
          "data": {
            "text/plain": [
              "301"
            ]
          },
          "metadata": {},
          "execution_count": 121
        }
      ]
    },
    {
      "cell_type": "code",
      "source": [
        "print(f\"XGB_Model_accuracy_score : {accuracy_score(xgb_model.predict(X_train) ,y_train) :.4f}\")\n",
        "print(f\"XGB_Model_Testing accuracy score : {accuracy_score(xgb_model.predict(X_val) ,y_val):.4f}\")"
      ],
      "metadata": {
        "colab": {
          "base_uri": "https://localhost:8080/"
        },
        "id": "ySkTFj1i54Vb",
        "outputId": "5eea88a5-7265-4ba9-c1d2-ee11bd13d497"
      },
      "execution_count": null,
      "outputs": [
        {
          "output_type": "stream",
          "name": "stdout",
          "text": [
            "XGB_Model_accuracy_score : 0.9401\n",
            "XGB_Model_Testing accuracy score : 0.8913\n"
          ]
        }
      ]
    },
    {
      "cell_type": "markdown",
      "source": [
        "In this example, both Random Forest and XGBoost had similar performance (test accuracy)."
      ],
      "metadata": {
        "id": "QDM6XyJZ66vz"
      }
    }
  ]
}